{
  "nbformat": 4,
  "nbformat_minor": 0,
  "metadata": {
    "colab": {
      "provenance": []
    },
    "kernelspec": {
      "name": "python3",
      "display_name": "Python 3"
    },
    "language_info": {
      "name": "python"
    }
  },
  "cells": [
    {
      "cell_type": "code",
      "execution_count": 1,
      "metadata": {
        "id": "Y64RJYTDerqY"
      },
      "outputs": [],
      "source": [
        "import numpy as np\n",
        "import matplotlib.pyplot as plt\n",
        "from tensorflow.keras.models import Sequential\n",
        "from tensorflow.keras.utils import to_categorical\n",
        "from tensorflow.keras.preprocessing.text import Tokenizer\n",
        "from tensorflow.keras.preprocessing.sequence import pad_sequences\n",
        "from tensorflow.keras.layers import Embedding, LSTM, Dense, Bidirectional"
      ]
    },
    {
      "cell_type": "code",
      "source": [
        "!gdown --id 108jAePKK4R3BVYBbYJZ32JWUwxeMg20K"
      ],
      "metadata": {
        "colab": {
          "base_uri": "https://localhost:8080/"
        },
        "id": "vBuyQX1LgDd1",
        "outputId": "a8996efb-46bd-40c7-a77f-3fcaf427a850"
      },
      "execution_count": 2,
      "outputs": [
        {
          "output_type": "stream",
          "name": "stdout",
          "text": [
            "/usr/local/lib/python3.10/dist-packages/gdown/cli.py:121: FutureWarning: Option `--id` was deprecated in version 4.3.1 and will be removed in 5.0. You don't need to pass it anymore to use a file ID.\n",
            "  warnings.warn(\n",
            "Downloading...\n",
            "From: https://drive.google.com/uc?id=108jAePKK4R3BVYBbYJZ32JWUwxeMg20K\n",
            "To: /content/sonnets.txt\n",
            "100% 93.6k/93.6k [00:00<00:00, 71.5MB/s]\n"
          ]
        }
      ]
    },
    {
      "cell_type": "code",
      "source": [
        "SONNETS_FILE = './sonnets.txt'\n",
        "\n",
        "# Read the data\n",
        "with open('./sonnets.txt') as f:\n",
        "    data = f.read()\n",
        "\n",
        "# Convert to lower case and save as a list\n",
        "corpus = data.lower().split(\"\\n\")\n",
        "\n",
        "print(f\"There are {len(corpus)} lines of sonnets\\n\")\n",
        "print(f\"The first 5 lines look like this:\\n\")\n",
        "for i in range(5):\n",
        "  print(corpus[i])"
      ],
      "metadata": {
        "colab": {
          "base_uri": "https://localhost:8080/"
        },
        "id": "T1INoyp-gDl6",
        "outputId": "7044b66d-5141-49b1-9d64-a2134a9df8c7"
      },
      "execution_count": 3,
      "outputs": [
        {
          "output_type": "stream",
          "name": "stdout",
          "text": [
            "There are 2159 lines of sonnets\n",
            "\n",
            "The first 5 lines look like this:\n",
            "\n",
            "from fairest creatures we desire increase,\n",
            "that thereby beauty's rose might never die,\n",
            "but as the riper should by time decease,\n",
            "his tender heir might bear his memory:\n",
            "but thou, contracted to thine own bright eyes,\n"
          ]
        }
      ]
    },
    {
      "cell_type": "code",
      "source": [
        "tokenizer = Tokenizer()\n",
        "tokenizer.fit_on_texts(corpus)\n",
        "total_words = len(tokenizer.word_index) + 1"
      ],
      "metadata": {
        "id": "bPdzJNcNgDrA"
      },
      "execution_count": 4,
      "outputs": []
    },
    {
      "cell_type": "code",
      "source": [
        "corpus[0]"
      ],
      "metadata": {
        "colab": {
          "base_uri": "https://localhost:8080/",
          "height": 36
        },
        "id": "y1nNu81_gDui",
        "outputId": "a80fd3d2-5506-49cb-fc5f-2b89fd3361e2"
      },
      "execution_count": 5,
      "outputs": [
        {
          "output_type": "execute_result",
          "data": {
            "text/plain": [
              "'from fairest creatures we desire increase,'"
            ],
            "application/vnd.google.colaboratory.intrinsic+json": {
              "type": "string"
            }
          },
          "metadata": {},
          "execution_count": 5
        }
      ]
    },
    {
      "cell_type": "code",
      "source": [
        "tokenizer.texts_to_sequences(corpus[0])"
      ],
      "metadata": {
        "colab": {
          "base_uri": "https://localhost:8080/"
        },
        "id": "qZT99s-Uh8TF",
        "outputId": "270f6976-ca35-434b-a069-cc3190007f3c"
      },
      "execution_count": 6,
      "outputs": [
        {
          "output_type": "execute_result",
          "data": {
            "text/plain": [
              "[[],\n",
              " [],\n",
              " [58],\n",
              " [],\n",
              " [],\n",
              " [],\n",
              " [17],\n",
              " [6],\n",
              " [],\n",
              " [],\n",
              " [],\n",
              " [],\n",
              " [],\n",
              " [],\n",
              " [],\n",
              " [],\n",
              " [17],\n",
              " [],\n",
              " [],\n",
              " [],\n",
              " [],\n",
              " [],\n",
              " [],\n",
              " [],\n",
              " [],\n",
              " [],\n",
              " [],\n",
              " [],\n",
              " [],\n",
              " [6],\n",
              " [],\n",
              " [],\n",
              " [],\n",
              " [6],\n",
              " [],\n",
              " [],\n",
              " [],\n",
              " [],\n",
              " [17],\n",
              " [],\n",
              " [],\n",
              " []]"
            ]
          },
          "metadata": {},
          "execution_count": 6
        }
      ]
    },
    {
      "cell_type": "code",
      "source": [
        "tokenizer.texts_to_sequences([corpus[0]])"
      ],
      "metadata": {
        "colab": {
          "base_uri": "https://localhost:8080/"
        },
        "id": "eNxtcNAQiAlD",
        "outputId": "89ed2461-186c-4657-aa70-7b4c069b724e"
      },
      "execution_count": 7,
      "outputs": [
        {
          "output_type": "execute_result",
          "data": {
            "text/plain": [
              "[[34, 417, 877, 166, 213, 517]]"
            ]
          },
          "metadata": {},
          "execution_count": 7
        }
      ]
    },
    {
      "cell_type": "code",
      "source": [
        "tokenizer.texts_to_sequences([corpus[0]])[0]"
      ],
      "metadata": {
        "colab": {
          "base_uri": "https://localhost:8080/"
        },
        "id": "blLl68gYiAxB",
        "outputId": "0bbcb280-32d8-4b46-b592-62e59b399b35"
      },
      "execution_count": 8,
      "outputs": [
        {
          "output_type": "execute_result",
          "data": {
            "text/plain": [
              "[34, 417, 877, 166, 213, 517]"
            ]
          },
          "metadata": {},
          "execution_count": 8
        }
      ]
    },
    {
      "cell_type": "code",
      "source": [
        "def n_gram_seqs(corpus, tokenizer):\n",
        "    \"\"\"\n",
        "    Generates a list of n-gram sequences\n",
        "\n",
        "    Args:\n",
        "        corpus (list of string): lines of texts to generate n-grams for\n",
        "        tokenizer (object): an instance of the Tokenizer class containing the word-index dictionary\n",
        "\n",
        "    Returns:\n",
        "        input_sequences (list of int): the n-gram sequences for each line in the corpus\n",
        "    \"\"\"\n",
        "    input_sequences = []\n",
        "\n",
        "    ### START CODE HERE\n",
        "    for line in corpus:\n",
        "      token_list= tokenizer.texts_to_sequences([line])[0]\n",
        "\n",
        "      for i in range(1,len(token_list)):\n",
        "        n_gram_sequence = token_list[:i+1]\n",
        "        input_sequences.append(n_gram_sequence)\n",
        "\n",
        "    ### END CODE HERE\n",
        "\n",
        "    return input_sequences"
      ],
      "metadata": {
        "id": "ibfB0ARBiA3l"
      },
      "execution_count": 9,
      "outputs": []
    },
    {
      "cell_type": "code",
      "source": [
        "first_example_sequence = n_gram_seqs([corpus[0]], tokenizer)\n",
        "\n",
        "print(\"n_gram sequences for first example look like this:\\n\")\n",
        "first_example_sequence"
      ],
      "metadata": {
        "colab": {
          "base_uri": "https://localhost:8080/"
        },
        "id": "xEE48ne2muxR",
        "outputId": "d33df309-1230-4730-c99c-2c3b773dc574"
      },
      "execution_count": 10,
      "outputs": [
        {
          "output_type": "stream",
          "name": "stdout",
          "text": [
            "n_gram sequences for first example look like this:\n",
            "\n"
          ]
        },
        {
          "output_type": "execute_result",
          "data": {
            "text/plain": [
              "[[34, 417],\n",
              " [34, 417, 877],\n",
              " [34, 417, 877, 166],\n",
              " [34, 417, 877, 166, 213],\n",
              " [34, 417, 877, 166, 213, 517]]"
            ]
          },
          "metadata": {},
          "execution_count": 10
        }
      ]
    },
    {
      "cell_type": "code",
      "source": [
        "next_3_examples_sequence = n_gram_seqs(corpus[1:4], tokenizer)\n",
        "\n",
        "print(\"n_gram sequences for next 3 examples look like this:\\n\")\n",
        "next_3_examples_sequence"
      ],
      "metadata": {
        "colab": {
          "base_uri": "https://localhost:8080/"
        },
        "id": "HdB1BXDxmu7Y",
        "outputId": "8bfb7815-5c55-4433-de0a-92d4a3d2214a"
      },
      "execution_count": 11,
      "outputs": [
        {
          "output_type": "stream",
          "name": "stdout",
          "text": [
            "n_gram sequences for next 3 examples look like this:\n",
            "\n"
          ]
        },
        {
          "output_type": "execute_result",
          "data": {
            "text/plain": [
              "[[8, 878],\n",
              " [8, 878, 134],\n",
              " [8, 878, 134, 351],\n",
              " [8, 878, 134, 351, 102],\n",
              " [8, 878, 134, 351, 102, 156],\n",
              " [8, 878, 134, 351, 102, 156, 199],\n",
              " [16, 22],\n",
              " [16, 22, 2],\n",
              " [16, 22, 2, 879],\n",
              " [16, 22, 2, 879, 61],\n",
              " [16, 22, 2, 879, 61, 30],\n",
              " [16, 22, 2, 879, 61, 30, 48],\n",
              " [16, 22, 2, 879, 61, 30, 48, 634],\n",
              " [25, 311],\n",
              " [25, 311, 635],\n",
              " [25, 311, 635, 102],\n",
              " [25, 311, 635, 102, 200],\n",
              " [25, 311, 635, 102, 200, 25],\n",
              " [25, 311, 635, 102, 200, 25, 278]]"
            ]
          },
          "metadata": {},
          "execution_count": 11
        }
      ]
    },
    {
      "cell_type": "code",
      "source": [
        "input_sequences = n_gram_seqs(corpus, tokenizer)\n",
        "\n",
        "# Save max length\n",
        "max_sequence_len = max([len(x) for x in input_sequences])\n",
        "\n",
        "print(f\"n_grams of input_sequences have length: {len(input_sequences)}\")\n",
        "print(f\"maximum length of sequences is: {max_sequence_len}\")"
      ],
      "metadata": {
        "colab": {
          "base_uri": "https://localhost:8080/"
        },
        "id": "f_QJkMNl8jHq",
        "outputId": "9771d897-a03c-4dd7-be9e-c42c641fbe8f"
      },
      "execution_count": 12,
      "outputs": [
        {
          "output_type": "stream",
          "name": "stdout",
          "text": [
            "n_grams of input_sequences have length: 15462\n",
            "maximum length of sequences is: 11\n"
          ]
        }
      ]
    },
    {
      "cell_type": "code",
      "source": [
        "def pad_seqs(input_sequences, maxlen):\n",
        "    \"\"\"\n",
        "    Pads tokenized sequences to the same length\n",
        "\n",
        "    Args:\n",
        "        input_sequences (list of int): tokenized sequences to pad\n",
        "        maxlen (int): maximum length of the token sequences\n",
        "\n",
        "    Returns:\n",
        "        padded_sequences (array of int): tokenized sequences padded to the same length\n",
        "    \"\"\"\n",
        "    ### START CODE HERE\n",
        "    padded_sequences =  np.array(pad_sequences(input_sequences,maxlen,padding='pre'))\n",
        "\n",
        "    return padded_sequences"
      ],
      "metadata": {
        "id": "SGr0PEdu8jKx"
      },
      "execution_count": 13,
      "outputs": []
    },
    {
      "cell_type": "code",
      "source": [
        "first_padded_seq = pad_seqs(first_example_sequence, max([len(x) for x in first_example_sequence]))\n",
        "first_padded_seq"
      ],
      "metadata": {
        "colab": {
          "base_uri": "https://localhost:8080/"
        },
        "id": "9cDTjuFN9sBc",
        "outputId": "26a099c7-ac20-4e59-d0ee-7cb1d979ce9c"
      },
      "execution_count": 14,
      "outputs": [
        {
          "output_type": "execute_result",
          "data": {
            "text/plain": [
              "array([[  0,   0,   0,   0,  34, 417],\n",
              "       [  0,   0,   0,  34, 417, 877],\n",
              "       [  0,   0,  34, 417, 877, 166],\n",
              "       [  0,  34, 417, 877, 166, 213],\n",
              "       [ 34, 417, 877, 166, 213, 517]], dtype=int32)"
            ]
          },
          "metadata": {},
          "execution_count": 14
        }
      ]
    },
    {
      "cell_type": "code",
      "source": [
        "input_sequences = pad_seqs(input_sequences, max_sequence_len)\n",
        "\n",
        "print(f\"padded corpus has shape: {input_sequences.shape}\")"
      ],
      "metadata": {
        "colab": {
          "base_uri": "https://localhost:8080/"
        },
        "id": "rZ_MCVJh91ZK",
        "outputId": "637f0fd8-18cf-4159-b7ac-c2d0c8a92e85"
      },
      "execution_count": 15,
      "outputs": [
        {
          "output_type": "stream",
          "name": "stdout",
          "text": [
            "padded corpus has shape: (15462, 11)\n"
          ]
        }
      ]
    },
    {
      "cell_type": "code",
      "source": [
        "def features_and_labels(input_sequences, total_words):\n",
        "    \"\"\"\n",
        "    Generates features and labels from n-grams\n",
        "\n",
        "    Args:\n",
        "        input_sequences (list of int): sequences to split features and labels from\n",
        "        total_words (int): vocabulary size\n",
        "\n",
        "    Returns:\n",
        "        features, one_hot_labels (array of int, array of int): arrays of features and one-hot encoded labels\n",
        "    \"\"\"\n",
        "    ### START CODE HERE\n",
        "    features = input_sequences[:,:-1]\n",
        "    labels = input_sequences[:,-1]\n",
        "    one_hot_labels = to_categorical(labels, num_classes=total_words)\n",
        "    ### END CODE HERE\n",
        "\n",
        "    return features, one_hot_labels"
      ],
      "metadata": {
        "id": "VvnW6gkc91bj"
      },
      "execution_count": 16,
      "outputs": []
    },
    {
      "cell_type": "code",
      "source": [
        "first_features, first_labels = features_and_labels(first_padded_seq, total_words)\n",
        "\n",
        "print(f\"labels have shape: {first_labels.shape}\")\n",
        "print(\"\\nfeatures look like this:\\n\")\n",
        "first_features"
      ],
      "metadata": {
        "colab": {
          "base_uri": "https://localhost:8080/"
        },
        "id": "CrQaMuqz91ez",
        "outputId": "1a093176-4e5c-4846-d43b-f0184742d7f8"
      },
      "execution_count": 17,
      "outputs": [
        {
          "output_type": "stream",
          "name": "stdout",
          "text": [
            "labels have shape: (5, 3211)\n",
            "\n",
            "features look like this:\n",
            "\n"
          ]
        },
        {
          "output_type": "execute_result",
          "data": {
            "text/plain": [
              "array([[  0,   0,   0,   0,  34],\n",
              "       [  0,   0,   0,  34, 417],\n",
              "       [  0,   0,  34, 417, 877],\n",
              "       [  0,  34, 417, 877, 166],\n",
              "       [ 34, 417, 877, 166, 213]], dtype=int32)"
            ]
          },
          "metadata": {},
          "execution_count": 17
        }
      ]
    },
    {
      "cell_type": "code",
      "source": [
        "features, labels = features_and_labels(input_sequences, total_words)\n",
        "\n",
        "print(f\"features have shape: {features.shape}\")\n",
        "print(f\"labels have shape: {labels.shape}\")"
      ],
      "metadata": {
        "colab": {
          "base_uri": "https://localhost:8080/"
        },
        "id": "oGGyOkm1-dEz",
        "outputId": "21336271-2e04-409e-9bd1-080c05d991c5"
      },
      "execution_count": 18,
      "outputs": [
        {
          "output_type": "stream",
          "name": "stdout",
          "text": [
            "features have shape: (15462, 10)\n",
            "labels have shape: (15462, 3211)\n"
          ]
        }
      ]
    },
    {
      "cell_type": "code",
      "source": [
        "def create_model(total_words, max_sequence_len):\n",
        "    \"\"\"\n",
        "    Creates a text generator model\n",
        "\n",
        "    Args:\n",
        "        total_words (int): size of the vocabulary for the Embedding layer input\n",
        "        max_sequence_len (int): length of the input sequences\n",
        "\n",
        "    Returns:\n",
        "        model (tf.keras Model): the text generator model\n",
        "    \"\"\"\n",
        "    model = Sequential()\n",
        "    ### START CODE HERE\n",
        "    model.add(Embedding(total_words, 100, input_length=max_sequence_len-1))\n",
        "    model.add(Bidirectional(LSTM(150)))\n",
        "    model.add(Dense(total_words, activation='softmax'))\n",
        "\n",
        "\n",
        "    # Compile the model\n",
        "    model.compile(loss='categorical_crossentropy',\n",
        "                  optimizer='adam',\n",
        "                  metrics=['accuracy'])\n",
        "\n",
        "    ### END CODE HERE\n",
        "\n",
        "    return model"
      ],
      "metadata": {
        "id": "6b3fr3KJ-dIE"
      },
      "execution_count": 19,
      "outputs": []
    },
    {
      "cell_type": "code",
      "source": [
        "model = create_model(total_words, max_sequence_len)\n",
        "\n",
        "# Train the model\n",
        "history = model.fit(features, labels, epochs=50, verbose=1)"
      ],
      "metadata": {
        "colab": {
          "base_uri": "https://localhost:8080/"
        },
        "id": "kPXx9PYE9sE9",
        "outputId": "110372e8-5c7f-422a-dd94-4d5b83bd4621"
      },
      "execution_count": 20,
      "outputs": [
        {
          "output_type": "stream",
          "name": "stdout",
          "text": [
            "Epoch 1/50\n",
            "484/484 [==============================] - 46s 85ms/step - loss: 6.8765 - accuracy: 0.0236\n",
            "Epoch 2/50\n",
            "484/484 [==============================] - 33s 68ms/step - loss: 6.4248 - accuracy: 0.0323\n",
            "Epoch 3/50\n",
            "484/484 [==============================] - 34s 70ms/step - loss: 6.1876 - accuracy: 0.0428\n",
            "Epoch 4/50\n",
            "484/484 [==============================] - 34s 70ms/step - loss: 5.9251 - accuracy: 0.0512\n",
            "Epoch 5/50\n",
            "484/484 [==============================] - 33s 68ms/step - loss: 5.6116 - accuracy: 0.0640\n",
            "Epoch 6/50\n",
            "484/484 [==============================] - 35s 72ms/step - loss: 5.2580 - accuracy: 0.0772\n",
            "Epoch 7/50\n",
            "484/484 [==============================] - 33s 67ms/step - loss: 4.8655 - accuracy: 0.1019\n",
            "Epoch 8/50\n",
            "484/484 [==============================] - 32s 67ms/step - loss: 4.4471 - accuracy: 0.1295\n",
            "Epoch 9/50\n",
            "484/484 [==============================] - 33s 69ms/step - loss: 4.0200 - accuracy: 0.1863\n",
            "Epoch 10/50\n",
            "484/484 [==============================] - 34s 70ms/step - loss: 3.6093 - accuracy: 0.2546\n",
            "Epoch 11/50\n",
            "484/484 [==============================] - 33s 69ms/step - loss: 3.2252 - accuracy: 0.3283\n",
            "Epoch 12/50\n",
            "484/484 [==============================] - 36s 74ms/step - loss: 2.8787 - accuracy: 0.3943\n",
            "Epoch 13/50\n",
            "484/484 [==============================] - 34s 70ms/step - loss: 2.5857 - accuracy: 0.4531\n",
            "Epoch 14/50\n",
            "484/484 [==============================] - 33s 68ms/step - loss: 2.3146 - accuracy: 0.5123\n",
            "Epoch 15/50\n",
            "484/484 [==============================] - 35s 72ms/step - loss: 2.0882 - accuracy: 0.5656\n",
            "Epoch 16/50\n",
            "484/484 [==============================] - 33s 67ms/step - loss: 1.8753 - accuracy: 0.6101\n",
            "Epoch 17/50\n",
            "484/484 [==============================] - 33s 68ms/step - loss: 1.7012 - accuracy: 0.6465\n",
            "Epoch 18/50\n",
            "484/484 [==============================] - 34s 71ms/step - loss: 1.5408 - accuracy: 0.6835\n",
            "Epoch 19/50\n",
            "484/484 [==============================] - 33s 68ms/step - loss: 1.4009 - accuracy: 0.7156\n",
            "Epoch 20/50\n",
            "484/484 [==============================] - 33s 69ms/step - loss: 1.2856 - accuracy: 0.7395\n",
            "Epoch 21/50\n",
            "484/484 [==============================] - 35s 71ms/step - loss: 1.1735 - accuracy: 0.7640\n",
            "Epoch 22/50\n",
            "484/484 [==============================] - 33s 69ms/step - loss: 1.0844 - accuracy: 0.7814\n",
            "Epoch 23/50\n",
            "484/484 [==============================] - 34s 71ms/step - loss: 1.0000 - accuracy: 0.7981\n",
            "Epoch 24/50\n",
            "484/484 [==============================] - 33s 68ms/step - loss: 0.9321 - accuracy: 0.8079\n",
            "Epoch 25/50\n",
            "484/484 [==============================] - 32s 67ms/step - loss: 0.8782 - accuracy: 0.8162\n",
            "Epoch 26/50\n",
            "484/484 [==============================] - 33s 68ms/step - loss: 0.8350 - accuracy: 0.8245\n",
            "Epoch 27/50\n",
            "484/484 [==============================] - 34s 70ms/step - loss: 0.7942 - accuracy: 0.8293\n",
            "Epoch 28/50\n",
            "484/484 [==============================] - 33s 68ms/step - loss: 0.7585 - accuracy: 0.8328\n",
            "Epoch 29/50\n",
            "484/484 [==============================] - 34s 70ms/step - loss: 0.7263 - accuracy: 0.8386\n",
            "Epoch 30/50\n",
            "484/484 [==============================] - 34s 70ms/step - loss: 0.7054 - accuracy: 0.8404\n",
            "Epoch 31/50\n",
            "484/484 [==============================] - 33s 67ms/step - loss: 0.6884 - accuracy: 0.8421\n",
            "Epoch 32/50\n",
            "484/484 [==============================] - 33s 69ms/step - loss: 0.6724 - accuracy: 0.8436\n",
            "Epoch 33/50\n",
            "484/484 [==============================] - 33s 69ms/step - loss: 0.6581 - accuracy: 0.8458\n",
            "Epoch 34/50\n",
            "484/484 [==============================] - 32s 67ms/step - loss: 0.6417 - accuracy: 0.8480\n",
            "Epoch 35/50\n",
            "484/484 [==============================] - 33s 68ms/step - loss: 0.6295 - accuracy: 0.8472\n",
            "Epoch 36/50\n",
            "484/484 [==============================] - 34s 71ms/step - loss: 0.6203 - accuracy: 0.8466\n",
            "Epoch 37/50\n",
            "484/484 [==============================] - 33s 69ms/step - loss: 0.6150 - accuracy: 0.8459\n",
            "Epoch 38/50\n",
            "484/484 [==============================] - 34s 71ms/step - loss: 0.6088 - accuracy: 0.8489\n",
            "Epoch 39/50\n",
            "484/484 [==============================] - 34s 71ms/step - loss: 0.6020 - accuracy: 0.8489\n",
            "Epoch 40/50\n",
            "484/484 [==============================] - 34s 70ms/step - loss: 0.5920 - accuracy: 0.8503\n",
            "Epoch 41/50\n",
            "484/484 [==============================] - 35s 72ms/step - loss: 0.5903 - accuracy: 0.8481\n",
            "Epoch 42/50\n",
            "484/484 [==============================] - 33s 68ms/step - loss: 0.5861 - accuracy: 0.8494\n",
            "Epoch 43/50\n",
            "484/484 [==============================] - 32s 67ms/step - loss: 0.5781 - accuracy: 0.8500\n",
            "Epoch 44/50\n",
            "484/484 [==============================] - 35s 72ms/step - loss: 0.5739 - accuracy: 0.8490\n",
            "Epoch 45/50\n",
            "484/484 [==============================] - 33s 68ms/step - loss: 0.5729 - accuracy: 0.8490\n",
            "Epoch 46/50\n",
            "484/484 [==============================] - 33s 68ms/step - loss: 0.5716 - accuracy: 0.8506\n",
            "Epoch 47/50\n",
            "484/484 [==============================] - 35s 72ms/step - loss: 0.5719 - accuracy: 0.8485\n",
            "Epoch 48/50\n",
            "484/484 [==============================] - 33s 68ms/step - loss: 0.5708 - accuracy: 0.8487\n",
            "Epoch 49/50\n",
            "484/484 [==============================] - 33s 68ms/step - loss: 0.5650 - accuracy: 0.8490\n",
            "Epoch 50/50\n",
            "484/484 [==============================] - 34s 70ms/step - loss: 0.5592 - accuracy: 0.8497\n"
          ]
        }
      ]
    },
    {
      "cell_type": "code",
      "source": [
        "acc = history.history['accuracy']\n",
        "loss = history.history['loss']\n",
        "\n",
        "epochs = range(len(acc))\n",
        "\n",
        "plt.plot(epochs, acc, 'b', label='Training accuracy')\n",
        "plt.title('Training accuracy')\n",
        "\n",
        "plt.figure()\n",
        "\n",
        "plt.plot(epochs, loss, 'b', label='Training Loss')\n",
        "plt.title('Training loss')\n",
        "plt.legend()\n",
        "\n",
        "plt.show()"
      ],
      "metadata": {
        "colab": {
          "base_uri": "https://localhost:8080/",
          "height": 887
        },
        "id": "Lj2L6VlZ8jOJ",
        "outputId": "b8d0c256-f408-4fc2-dda9-fc072ea8bb83"
      },
      "execution_count": 21,
      "outputs": [
        {
          "output_type": "display_data",
          "data": {
            "text/plain": [
              "<Figure size 640x480 with 1 Axes>"
            ],
            "image/png": "[encoded data removed]"
          },
          "metadata": {}
        },
        {
          "output_type": "display_data",
          "data": {
            "text/plain": [
              "<Figure size 640x480 with 1 Axes>"
            ],
            "image/png": "[encoded data removed]"
          },
          "metadata": {}
        }
      ]
    },
    {
      "cell_type": "code",
      "source": [
        "seed_text = \"Help me Obi Wan Kenobi, you're my only hope\"\n",
        "next_words = 100\n",
        "\n",
        "for _ in range(next_words):\n",
        "    # Convert the text into sequences\n",
        "    token_list = tokenizer.texts_to_sequences([seed_text])[0]\n",
        "    # Pad the sequences\n",
        "    token_list = pad_sequences([token_list], maxlen=max_sequence_len-1, padding='pre')\n",
        "    # Get the probabilities of predicting a word\n",
        "    predicted = model.predict(token_list, verbose=0)\n",
        "    # Choose the next word based on the maximum probability\n",
        "    predicted = np.argmax(predicted, axis=-1).item()\n",
        "    # Get the actual word from the word index\n",
        "    output_word = tokenizer.index_word[predicted]\n",
        "    # Append to the current text\n",
        "    seed_text += \" \" + output_word\n",
        "\n",
        "print(seed_text)"
      ],
      "metadata": {
        "colab": {
          "base_uri": "https://localhost:8080/"
        },
        "id": "v1RKwgS_FpjH",
        "outputId": "91224c62-42da-4a6e-b2cc-1a21225bd51f"
      },
      "execution_count": 22,
      "outputs": [
        {
          "output_type": "stream",
          "name": "stdout",
          "text": [
            "Help me Obi Wan Kenobi, you're my only hope to your love you live new ' and see so i am old in of thee date in you war ' i brow foes music say bail can seen old cheeks blanks and live in thee thou blind art forsworn to me ' swearing i am now grow of me weep live mine eye awake thine eye shall be so knows you in the way of me new love prove me ' knows my kind and true ' have often love pace sleeping rudest elsewhere shade now to every fine wit prove my brow ' prove ' ' doth soul's\n"
          ]
        }
      ]
    }
  ]
}